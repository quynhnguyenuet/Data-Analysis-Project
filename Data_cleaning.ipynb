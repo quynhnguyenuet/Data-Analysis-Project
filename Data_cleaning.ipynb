{
 "cells": [
  {
   "cell_type": "code",
   "execution_count": 1,
   "id": "df8640d9",
   "metadata": {},
   "outputs": [],
   "source": [
    "import pandas as pd\n",
    "import numpy as np\n",
    "import os"
   ]
  },
  {
   "cell_type": "markdown",
   "id": "2997c591",
   "metadata": {},
   "source": [
    "## 1. Olist_customer_dataset.csv"
   ]
  },
  {
   "cell_type": "code",
   "execution_count": 2,
   "id": "0a2d1be6",
   "metadata": {},
   "outputs": [
    {
     "data": {
      "text/html": [
       "<div>\n",
       "<style scoped>\n",
       "    .dataframe tbody tr th:only-of-type {\n",
       "        vertical-align: middle;\n",
       "    }\n",
       "\n",
       "    .dataframe tbody tr th {\n",
       "        vertical-align: top;\n",
       "    }\n",
       "\n",
       "    .dataframe thead th {\n",
       "        text-align: right;\n",
       "    }\n",
       "</style>\n",
       "<table border=\"1\" class=\"dataframe\">\n",
       "  <thead>\n",
       "    <tr style=\"text-align: right;\">\n",
       "      <th></th>\n",
       "      <th>customer_unique_id</th>\n",
       "      <th>customer_zip_code_prefix</th>\n",
       "      <th>customer_city</th>\n",
       "      <th>customer_state</th>\n",
       "    </tr>\n",
       "    <tr>\n",
       "      <th>customer_id</th>\n",
       "      <th></th>\n",
       "      <th></th>\n",
       "      <th></th>\n",
       "      <th></th>\n",
       "    </tr>\n",
       "  </thead>\n",
       "  <tbody>\n",
       "    <tr>\n",
       "      <th>06b8999e2fba1a1fbc88172c00ba8bc7</th>\n",
       "      <td>861eff4711a542e4b93843c6dd7febb0</td>\n",
       "      <td>14409</td>\n",
       "      <td>franca</td>\n",
       "      <td>SP</td>\n",
       "    </tr>\n",
       "    <tr>\n",
       "      <th>18955e83d337fd6b2def6b18a428ac77</th>\n",
       "      <td>290c77bc529b7ac935b93aa66c333dc3</td>\n",
       "      <td>9790</td>\n",
       "      <td>sao bernardo do campo</td>\n",
       "      <td>SP</td>\n",
       "    </tr>\n",
       "    <tr>\n",
       "      <th>4e7b3e00288586ebd08712fdd0374a03</th>\n",
       "      <td>060e732b5b29e8181a18229c7b0b2b5e</td>\n",
       "      <td>1151</td>\n",
       "      <td>sao paulo</td>\n",
       "      <td>SP</td>\n",
       "    </tr>\n",
       "    <tr>\n",
       "      <th>b2b6027bc5c5109e529d4dc6358b12c3</th>\n",
       "      <td>259dac757896d24d7702b9acbbff3f3c</td>\n",
       "      <td>8775</td>\n",
       "      <td>mogi das cruzes</td>\n",
       "      <td>SP</td>\n",
       "    </tr>\n",
       "    <tr>\n",
       "      <th>4f2d8ab171c80ec8364f7c12e35b23ad</th>\n",
       "      <td>345ecd01c38d18a9036ed96c73b8d066</td>\n",
       "      <td>13056</td>\n",
       "      <td>campinas</td>\n",
       "      <td>SP</td>\n",
       "    </tr>\n",
       "  </tbody>\n",
       "</table>\n",
       "</div>"
      ],
      "text/plain": [
       "                                                customer_unique_id  \\\n",
       "customer_id                                                          \n",
       "06b8999e2fba1a1fbc88172c00ba8bc7  861eff4711a542e4b93843c6dd7febb0   \n",
       "18955e83d337fd6b2def6b18a428ac77  290c77bc529b7ac935b93aa66c333dc3   \n",
       "4e7b3e00288586ebd08712fdd0374a03  060e732b5b29e8181a18229c7b0b2b5e   \n",
       "b2b6027bc5c5109e529d4dc6358b12c3  259dac757896d24d7702b9acbbff3f3c   \n",
       "4f2d8ab171c80ec8364f7c12e35b23ad  345ecd01c38d18a9036ed96c73b8d066   \n",
       "\n",
       "                                  customer_zip_code_prefix  \\\n",
       "customer_id                                                  \n",
       "06b8999e2fba1a1fbc88172c00ba8bc7                     14409   \n",
       "18955e83d337fd6b2def6b18a428ac77                      9790   \n",
       "4e7b3e00288586ebd08712fdd0374a03                      1151   \n",
       "b2b6027bc5c5109e529d4dc6358b12c3                      8775   \n",
       "4f2d8ab171c80ec8364f7c12e35b23ad                     13056   \n",
       "\n",
       "                                          customer_city customer_state  \n",
       "customer_id                                                             \n",
       "06b8999e2fba1a1fbc88172c00ba8bc7                 franca             SP  \n",
       "18955e83d337fd6b2def6b18a428ac77  sao bernardo do campo             SP  \n",
       "4e7b3e00288586ebd08712fdd0374a03              sao paulo             SP  \n",
       "b2b6027bc5c5109e529d4dc6358b12c3        mogi das cruzes             SP  \n",
       "4f2d8ab171c80ec8364f7c12e35b23ad               campinas             SP  "
      ]
     },
     "execution_count": 2,
     "metadata": {},
     "output_type": "execute_result"
    }
   ],
   "source": [
    "customer_data = pd.read_csv(\"eCommerce_Business_Trends/olist_customers_dataset.csv\")\n",
    "customer_data.set_index('customer_id',inplace = True)\n",
    "customer_data.head()"
   ]
  },
  {
   "cell_type": "code",
   "execution_count": 3,
   "id": "be290ee8",
   "metadata": {},
   "outputs": [
    {
     "data": {
      "text/plain": [
       "(99441, 4)"
      ]
     },
     "execution_count": 3,
     "metadata": {},
     "output_type": "execute_result"
    }
   ],
   "source": [
    "customer_data.shape"
   ]
  },
  {
   "cell_type": "code",
   "execution_count": 4,
   "id": "96d4ca36",
   "metadata": {},
   "outputs": [
    {
     "name": "stdout",
     "output_type": "stream",
     "text": [
      "<class 'pandas.core.frame.DataFrame'>\n",
      "Index: 99441 entries, 06b8999e2fba1a1fbc88172c00ba8bc7 to 274fa6071e5e17fe303b9748641082c8\n",
      "Data columns (total 4 columns):\n",
      " #   Column                    Non-Null Count  Dtype \n",
      "---  ------                    --------------  ----- \n",
      " 0   customer_unique_id        99441 non-null  object\n",
      " 1   customer_zip_code_prefix  99441 non-null  int64 \n",
      " 2   customer_city             99441 non-null  object\n",
      " 3   customer_state            99441 non-null  object\n",
      "dtypes: int64(1), object(3)\n",
      "memory usage: 3.8+ MB\n"
     ]
    }
   ],
   "source": [
    "customer_data.info()"
   ]
  },
  {
   "cell_type": "code",
   "execution_count": 5,
   "id": "40a043fc",
   "metadata": {},
   "outputs": [
    {
     "data": {
      "text/plain": [
       "customer_unique_id          0\n",
       "customer_zip_code_prefix    0\n",
       "customer_city               0\n",
       "customer_state              0\n",
       "dtype: int64"
      ]
     },
     "execution_count": 5,
     "metadata": {},
     "output_type": "execute_result"
    }
   ],
   "source": [
    "customer_data.isnull().sum()"
   ]
  },
  {
   "cell_type": "code",
   "execution_count": 6,
   "id": "16dca3d8",
   "metadata": {},
   "outputs": [
    {
     "data": {
      "text/plain": [
       "customer_unique_id          96096\n",
       "customer_zip_code_prefix    14994\n",
       "customer_city                4119\n",
       "customer_state                 27\n",
       "dtype: int64"
      ]
     },
     "execution_count": 6,
     "metadata": {},
     "output_type": "execute_result"
    }
   ],
   "source": [
    "customer_data.nunique()"
   ]
  },
  {
   "cell_type": "code",
   "execution_count": 7,
   "id": "9b83fc86",
   "metadata": {},
   "outputs": [],
   "source": [
    "customer_data.drop_duplicates(subset = ['customer_unique_id'],inplace = True)"
   ]
  },
  {
   "cell_type": "markdown",
   "id": "a1c63852",
   "metadata": {},
   "source": [
    "## 2.olist_geolocation_dataset.csv"
   ]
  },
  {
   "cell_type": "code",
   "execution_count": 8,
   "id": "b18dd119",
   "metadata": {},
   "outputs": [
    {
     "data": {
      "text/plain": [
       "Index(['geolocation_zip_code_prefix', 'geolocation_lat', 'geolocation_lng',\n",
       "       'geolocation_city', 'geolocation_state'],\n",
       "      dtype='object')"
      ]
     },
     "execution_count": 8,
     "metadata": {},
     "output_type": "execute_result"
    }
   ],
   "source": [
    "geolocation_data = pd.read_csv(\"eCommerce_Business_Trends/olist_geolocation_dataset.csv\")\n",
    "geolocation_data.columns"
   ]
  },
  {
   "cell_type": "code",
   "execution_count": 9,
   "id": "a41e4dd7",
   "metadata": {},
   "outputs": [],
   "source": [
    "geolocation_data.drop_duplicates(subset=['geolocation_zip_code_prefix'], inplace=True)"
   ]
  },
  {
   "cell_type": "code",
   "execution_count": 10,
   "id": "819bdeb7",
   "metadata": {},
   "outputs": [
    {
     "data": {
      "text/html": [
       "<div>\n",
       "<style scoped>\n",
       "    .dataframe tbody tr th:only-of-type {\n",
       "        vertical-align: middle;\n",
       "    }\n",
       "\n",
       "    .dataframe tbody tr th {\n",
       "        vertical-align: top;\n",
       "    }\n",
       "\n",
       "    .dataframe thead th {\n",
       "        text-align: right;\n",
       "    }\n",
       "</style>\n",
       "<table border=\"1\" class=\"dataframe\">\n",
       "  <thead>\n",
       "    <tr style=\"text-align: right;\">\n",
       "      <th></th>\n",
       "      <th>geolocation_zip_code_prefix</th>\n",
       "      <th>geolocation_lat</th>\n",
       "      <th>geolocation_lng</th>\n",
       "      <th>geolocation_city</th>\n",
       "      <th>geolocation_state</th>\n",
       "    </tr>\n",
       "  </thead>\n",
       "  <tbody>\n",
       "    <tr>\n",
       "      <th>0</th>\n",
       "      <td>1037</td>\n",
       "      <td>-23.545621</td>\n",
       "      <td>-46.639292</td>\n",
       "      <td>sao paulo</td>\n",
       "      <td>SP</td>\n",
       "    </tr>\n",
       "    <tr>\n",
       "      <th>1</th>\n",
       "      <td>1046</td>\n",
       "      <td>-23.546081</td>\n",
       "      <td>-46.644820</td>\n",
       "      <td>sao paulo</td>\n",
       "      <td>SP</td>\n",
       "    </tr>\n",
       "    <tr>\n",
       "      <th>3</th>\n",
       "      <td>1041</td>\n",
       "      <td>-23.544392</td>\n",
       "      <td>-46.639499</td>\n",
       "      <td>sao paulo</td>\n",
       "      <td>SP</td>\n",
       "    </tr>\n",
       "    <tr>\n",
       "      <th>4</th>\n",
       "      <td>1035</td>\n",
       "      <td>-23.541578</td>\n",
       "      <td>-46.641607</td>\n",
       "      <td>sao paulo</td>\n",
       "      <td>SP</td>\n",
       "    </tr>\n",
       "    <tr>\n",
       "      <th>5</th>\n",
       "      <td>1012</td>\n",
       "      <td>-23.547762</td>\n",
       "      <td>-46.635361</td>\n",
       "      <td>são paulo</td>\n",
       "      <td>SP</td>\n",
       "    </tr>\n",
       "  </tbody>\n",
       "</table>\n",
       "</div>"
      ],
      "text/plain": [
       "   geolocation_zip_code_prefix  geolocation_lat  geolocation_lng  \\\n",
       "0                         1037       -23.545621       -46.639292   \n",
       "1                         1046       -23.546081       -46.644820   \n",
       "3                         1041       -23.544392       -46.639499   \n",
       "4                         1035       -23.541578       -46.641607   \n",
       "5                         1012       -23.547762       -46.635361   \n",
       "\n",
       "  geolocation_city geolocation_state  \n",
       "0        sao paulo                SP  \n",
       "1        sao paulo                SP  \n",
       "3        sao paulo                SP  \n",
       "4        sao paulo                SP  \n",
       "5        são paulo                SP  "
      ]
     },
     "execution_count": 10,
     "metadata": {},
     "output_type": "execute_result"
    }
   ],
   "source": [
    "geolocation_data.head()"
   ]
  },
  {
   "cell_type": "code",
   "execution_count": 11,
   "id": "6c9c82a6",
   "metadata": {},
   "outputs": [
    {
     "data": {
      "text/plain": [
       "geolocation_zip_code_prefix    19015\n",
       "geolocation_lat                18987\n",
       "geolocation_lng                18988\n",
       "geolocation_city                5955\n",
       "geolocation_state                 27\n",
       "dtype: int64"
      ]
     },
     "execution_count": 11,
     "metadata": {},
     "output_type": "execute_result"
    }
   ],
   "source": [
    "geolocation_data.nunique()"
   ]
  },
  {
   "cell_type": "code",
   "execution_count": 56,
   "id": "4f119799",
   "metadata": {},
   "outputs": [
    {
     "data": {
      "text/plain": [
       "geolocation_zip_code_prefix    0\n",
       "geolocation_lat                0\n",
       "geolocation_lng                0\n",
       "geolocation_city               0\n",
       "geolocation_state              0\n",
       "dtype: int64"
      ]
     },
     "execution_count": 56,
     "metadata": {},
     "output_type": "execute_result"
    }
   ],
   "source": [
    "geolocation_data.isnull().sum()"
   ]
  },
  {
   "cell_type": "markdown",
   "id": "cd5c9e0b",
   "metadata": {},
   "source": [
    "## 3. olist_order_items_dataset.csv"
   ]
  },
  {
   "cell_type": "code",
   "execution_count": 13,
   "id": "056a1800",
   "metadata": {},
   "outputs": [
    {
     "name": "stdout",
     "output_type": "stream",
     "text": [
      "<class 'pandas.core.frame.DataFrame'>\n",
      "RangeIndex: 112650 entries, 0 to 112649\n",
      "Data columns (total 7 columns):\n",
      " #   Column               Non-Null Count   Dtype  \n",
      "---  ------               --------------   -----  \n",
      " 0   order_id             112650 non-null  object \n",
      " 1   order_item_id        112650 non-null  int64  \n",
      " 2   product_id           112650 non-null  object \n",
      " 3   seller_id            112650 non-null  object \n",
      " 4   shipping_limit_date  112650 non-null  object \n",
      " 5   price                112650 non-null  float64\n",
      " 6   freight_value        112650 non-null  float64\n",
      "dtypes: float64(2), int64(1), object(4)\n",
      "memory usage: 6.0+ MB\n"
     ]
    }
   ],
   "source": [
    "order_items_data = pd.read_csv(\"eCommerce_Business_Trends/olist_order_items_dataset.csv\")\n",
    "order_items_data.info()"
   ]
  },
  {
   "cell_type": "code",
   "execution_count": 14,
   "id": "5851ecef",
   "metadata": {},
   "outputs": [],
   "source": [
    "order_items_data[\"shipping_limit_date\"] = pd.to_datetime(order_items_data[\"shipping_limit_date\"])"
   ]
  },
  {
   "cell_type": "code",
   "execution_count": 15,
   "id": "84ca720d",
   "metadata": {},
   "outputs": [
    {
     "data": {
      "text/plain": [
       "order_id               98666\n",
       "order_item_id          98666\n",
       "product_id             98666\n",
       "seller_id              98666\n",
       "shipping_limit_date    98666\n",
       "price                  98666\n",
       "freight_value          98666\n",
       "dtype: int64"
      ]
     },
     "execution_count": 15,
     "metadata": {},
     "output_type": "execute_result"
    }
   ],
   "source": [
    "order_items_data.drop_duplicates(subset = ['order_id'],inplace = True)\n",
    "order_items_data.count()"
   ]
  },
  {
   "cell_type": "code",
   "execution_count": 16,
   "id": "7aff0f3d",
   "metadata": {},
   "outputs": [],
   "source": [
    "order_items_data.set_index(\"order_id\",inplace = True)"
   ]
  },
  {
   "cell_type": "code",
   "execution_count": 17,
   "id": "519ea7db",
   "metadata": {},
   "outputs": [
    {
     "data": {
      "text/plain": [
       "order_item_id              1\n",
       "product_id             31881\n",
       "seller_id               3088\n",
       "shipping_limit_date    93001\n",
       "price                   5882\n",
       "freight_value           6743\n",
       "dtype: int64"
      ]
     },
     "execution_count": 17,
     "metadata": {},
     "output_type": "execute_result"
    }
   ],
   "source": [
    "order_items_data.nunique()"
   ]
  },
  {
   "cell_type": "code",
   "execution_count": 18,
   "id": "c638e337",
   "metadata": {},
   "outputs": [
    {
     "data": {
      "text/plain": [
       "order_item_id          0\n",
       "product_id             0\n",
       "seller_id              0\n",
       "shipping_limit_date    0\n",
       "price                  0\n",
       "freight_value          0\n",
       "dtype: int64"
      ]
     },
     "execution_count": 18,
     "metadata": {},
     "output_type": "execute_result"
    }
   ],
   "source": [
    "order_items_data.isnull().sum()"
   ]
  },
  {
   "cell_type": "code",
   "execution_count": 19,
   "id": "79aeed1f",
   "metadata": {},
   "outputs": [
    {
     "data": {
      "text/html": [
       "<div>\n",
       "<style scoped>\n",
       "    .dataframe tbody tr th:only-of-type {\n",
       "        vertical-align: middle;\n",
       "    }\n",
       "\n",
       "    .dataframe tbody tr th {\n",
       "        vertical-align: top;\n",
       "    }\n",
       "\n",
       "    .dataframe thead th {\n",
       "        text-align: right;\n",
       "    }\n",
       "</style>\n",
       "<table border=\"1\" class=\"dataframe\">\n",
       "  <thead>\n",
       "    <tr style=\"text-align: right;\">\n",
       "      <th></th>\n",
       "      <th>order_item_id</th>\n",
       "      <th>product_id</th>\n",
       "      <th>seller_id</th>\n",
       "      <th>shipping_limit_date</th>\n",
       "      <th>price</th>\n",
       "      <th>freight_value</th>\n",
       "    </tr>\n",
       "    <tr>\n",
       "      <th>order_id</th>\n",
       "      <th></th>\n",
       "      <th></th>\n",
       "      <th></th>\n",
       "      <th></th>\n",
       "      <th></th>\n",
       "      <th></th>\n",
       "    </tr>\n",
       "  </thead>\n",
       "  <tbody>\n",
       "    <tr>\n",
       "      <th>00010242fe8c5a6d1ba2dd792cb16214</th>\n",
       "      <td>1</td>\n",
       "      <td>4244733e06e7ecb4970a6e2683c13e61</td>\n",
       "      <td>48436dade18ac8b2bce089ec2a041202</td>\n",
       "      <td>2017-09-19 09:45:35</td>\n",
       "      <td>58.90</td>\n",
       "      <td>13.29</td>\n",
       "    </tr>\n",
       "    <tr>\n",
       "      <th>00018f77f2f0320c557190d7a144bdd3</th>\n",
       "      <td>1</td>\n",
       "      <td>e5f2d52b802189ee658865ca93d83a8f</td>\n",
       "      <td>dd7ddc04e1b6c2c614352b383efe2d36</td>\n",
       "      <td>2017-05-03 11:05:13</td>\n",
       "      <td>239.90</td>\n",
       "      <td>19.93</td>\n",
       "    </tr>\n",
       "    <tr>\n",
       "      <th>000229ec398224ef6ca0657da4fc703e</th>\n",
       "      <td>1</td>\n",
       "      <td>c777355d18b72b67abbeef9df44fd0fd</td>\n",
       "      <td>5b51032eddd242adc84c38acab88f23d</td>\n",
       "      <td>2018-01-18 14:48:30</td>\n",
       "      <td>199.00</td>\n",
       "      <td>17.87</td>\n",
       "    </tr>\n",
       "    <tr>\n",
       "      <th>00024acbcdf0a6daa1e931b038114c75</th>\n",
       "      <td>1</td>\n",
       "      <td>7634da152a4610f1595efa32f14722fc</td>\n",
       "      <td>9d7a1d34a5052409006425275ba1c2b4</td>\n",
       "      <td>2018-08-15 10:10:18</td>\n",
       "      <td>12.99</td>\n",
       "      <td>12.79</td>\n",
       "    </tr>\n",
       "    <tr>\n",
       "      <th>00042b26cf59d7ce69dfabb4e55b4fd9</th>\n",
       "      <td>1</td>\n",
       "      <td>ac6c3623068f30de03045865e4e10089</td>\n",
       "      <td>df560393f3a51e74553ab94004ba5c87</td>\n",
       "      <td>2017-02-13 13:57:51</td>\n",
       "      <td>199.90</td>\n",
       "      <td>18.14</td>\n",
       "    </tr>\n",
       "    <tr>\n",
       "      <th>...</th>\n",
       "      <td>...</td>\n",
       "      <td>...</td>\n",
       "      <td>...</td>\n",
       "      <td>...</td>\n",
       "      <td>...</td>\n",
       "      <td>...</td>\n",
       "    </tr>\n",
       "    <tr>\n",
       "      <th>fffc94f6ce00a00581880bf54a75a037</th>\n",
       "      <td>1</td>\n",
       "      <td>4aa6014eceb682077f9dc4bffebc05b0</td>\n",
       "      <td>b8bc237ba3788b23da09c0f1f3a3288c</td>\n",
       "      <td>2018-05-02 04:11:01</td>\n",
       "      <td>299.99</td>\n",
       "      <td>43.41</td>\n",
       "    </tr>\n",
       "    <tr>\n",
       "      <th>fffcd46ef2263f404302a634eb57f7eb</th>\n",
       "      <td>1</td>\n",
       "      <td>32e07fd915822b0765e448c4dd74c828</td>\n",
       "      <td>f3c38ab652836d21de61fb8314b69182</td>\n",
       "      <td>2018-07-20 04:31:48</td>\n",
       "      <td>350.00</td>\n",
       "      <td>36.53</td>\n",
       "    </tr>\n",
       "    <tr>\n",
       "      <th>fffce4705a9662cd70adb13d4a31832d</th>\n",
       "      <td>1</td>\n",
       "      <td>72a30483855e2eafc67aee5dc2560482</td>\n",
       "      <td>c3cfdc648177fdbbbb35635a37472c53</td>\n",
       "      <td>2017-10-30 17:14:25</td>\n",
       "      <td>99.90</td>\n",
       "      <td>16.95</td>\n",
       "    </tr>\n",
       "    <tr>\n",
       "      <th>fffe18544ffabc95dfada21779c9644f</th>\n",
       "      <td>1</td>\n",
       "      <td>9c422a519119dcad7575db5af1ba540e</td>\n",
       "      <td>2b3e4a2a3ea8e01938cabda2a3e5cc79</td>\n",
       "      <td>2017-08-21 00:04:32</td>\n",
       "      <td>55.99</td>\n",
       "      <td>8.72</td>\n",
       "    </tr>\n",
       "    <tr>\n",
       "      <th>fffe41c64501cc87c801fd61db3f6244</th>\n",
       "      <td>1</td>\n",
       "      <td>350688d9dc1e75ff97be326363655e01</td>\n",
       "      <td>f7ccf836d21b2fb1de37564105216cc1</td>\n",
       "      <td>2018-06-12 17:10:13</td>\n",
       "      <td>43.00</td>\n",
       "      <td>12.79</td>\n",
       "    </tr>\n",
       "  </tbody>\n",
       "</table>\n",
       "<p>98666 rows × 6 columns</p>\n",
       "</div>"
      ],
      "text/plain": [
       "                                  order_item_id  \\\n",
       "order_id                                          \n",
       "00010242fe8c5a6d1ba2dd792cb16214              1   \n",
       "00018f77f2f0320c557190d7a144bdd3              1   \n",
       "000229ec398224ef6ca0657da4fc703e              1   \n",
       "00024acbcdf0a6daa1e931b038114c75              1   \n",
       "00042b26cf59d7ce69dfabb4e55b4fd9              1   \n",
       "...                                         ...   \n",
       "fffc94f6ce00a00581880bf54a75a037              1   \n",
       "fffcd46ef2263f404302a634eb57f7eb              1   \n",
       "fffce4705a9662cd70adb13d4a31832d              1   \n",
       "fffe18544ffabc95dfada21779c9644f              1   \n",
       "fffe41c64501cc87c801fd61db3f6244              1   \n",
       "\n",
       "                                                        product_id  \\\n",
       "order_id                                                             \n",
       "00010242fe8c5a6d1ba2dd792cb16214  4244733e06e7ecb4970a6e2683c13e61   \n",
       "00018f77f2f0320c557190d7a144bdd3  e5f2d52b802189ee658865ca93d83a8f   \n",
       "000229ec398224ef6ca0657da4fc703e  c777355d18b72b67abbeef9df44fd0fd   \n",
       "00024acbcdf0a6daa1e931b038114c75  7634da152a4610f1595efa32f14722fc   \n",
       "00042b26cf59d7ce69dfabb4e55b4fd9  ac6c3623068f30de03045865e4e10089   \n",
       "...                                                            ...   \n",
       "fffc94f6ce00a00581880bf54a75a037  4aa6014eceb682077f9dc4bffebc05b0   \n",
       "fffcd46ef2263f404302a634eb57f7eb  32e07fd915822b0765e448c4dd74c828   \n",
       "fffce4705a9662cd70adb13d4a31832d  72a30483855e2eafc67aee5dc2560482   \n",
       "fffe18544ffabc95dfada21779c9644f  9c422a519119dcad7575db5af1ba540e   \n",
       "fffe41c64501cc87c801fd61db3f6244  350688d9dc1e75ff97be326363655e01   \n",
       "\n",
       "                                                         seller_id  \\\n",
       "order_id                                                             \n",
       "00010242fe8c5a6d1ba2dd792cb16214  48436dade18ac8b2bce089ec2a041202   \n",
       "00018f77f2f0320c557190d7a144bdd3  dd7ddc04e1b6c2c614352b383efe2d36   \n",
       "000229ec398224ef6ca0657da4fc703e  5b51032eddd242adc84c38acab88f23d   \n",
       "00024acbcdf0a6daa1e931b038114c75  9d7a1d34a5052409006425275ba1c2b4   \n",
       "00042b26cf59d7ce69dfabb4e55b4fd9  df560393f3a51e74553ab94004ba5c87   \n",
       "...                                                            ...   \n",
       "fffc94f6ce00a00581880bf54a75a037  b8bc237ba3788b23da09c0f1f3a3288c   \n",
       "fffcd46ef2263f404302a634eb57f7eb  f3c38ab652836d21de61fb8314b69182   \n",
       "fffce4705a9662cd70adb13d4a31832d  c3cfdc648177fdbbbb35635a37472c53   \n",
       "fffe18544ffabc95dfada21779c9644f  2b3e4a2a3ea8e01938cabda2a3e5cc79   \n",
       "fffe41c64501cc87c801fd61db3f6244  f7ccf836d21b2fb1de37564105216cc1   \n",
       "\n",
       "                                 shipping_limit_date   price  freight_value  \n",
       "order_id                                                                     \n",
       "00010242fe8c5a6d1ba2dd792cb16214 2017-09-19 09:45:35   58.90          13.29  \n",
       "00018f77f2f0320c557190d7a144bdd3 2017-05-03 11:05:13  239.90          19.93  \n",
       "000229ec398224ef6ca0657da4fc703e 2018-01-18 14:48:30  199.00          17.87  \n",
       "00024acbcdf0a6daa1e931b038114c75 2018-08-15 10:10:18   12.99          12.79  \n",
       "00042b26cf59d7ce69dfabb4e55b4fd9 2017-02-13 13:57:51  199.90          18.14  \n",
       "...                                              ...     ...            ...  \n",
       "fffc94f6ce00a00581880bf54a75a037 2018-05-02 04:11:01  299.99          43.41  \n",
       "fffcd46ef2263f404302a634eb57f7eb 2018-07-20 04:31:48  350.00          36.53  \n",
       "fffce4705a9662cd70adb13d4a31832d 2017-10-30 17:14:25   99.90          16.95  \n",
       "fffe18544ffabc95dfada21779c9644f 2017-08-21 00:04:32   55.99           8.72  \n",
       "fffe41c64501cc87c801fd61db3f6244 2018-06-12 17:10:13   43.00          12.79  \n",
       "\n",
       "[98666 rows x 6 columns]"
      ]
     },
     "execution_count": 19,
     "metadata": {},
     "output_type": "execute_result"
    }
   ],
   "source": [
    "order_items_data"
   ]
  },
  {
   "cell_type": "markdown",
   "id": "4e3a06b3",
   "metadata": {},
   "source": [
    "## 4. olist_order_payment_dataset.csv"
   ]
  },
  {
   "cell_type": "code",
   "execution_count": 20,
   "id": "19bf33b7",
   "metadata": {},
   "outputs": [
    {
     "data": {
      "text/html": [
       "<div>\n",
       "<style scoped>\n",
       "    .dataframe tbody tr th:only-of-type {\n",
       "        vertical-align: middle;\n",
       "    }\n",
       "\n",
       "    .dataframe tbody tr th {\n",
       "        vertical-align: top;\n",
       "    }\n",
       "\n",
       "    .dataframe thead th {\n",
       "        text-align: right;\n",
       "    }\n",
       "</style>\n",
       "<table border=\"1\" class=\"dataframe\">\n",
       "  <thead>\n",
       "    <tr style=\"text-align: right;\">\n",
       "      <th></th>\n",
       "      <th>order_id</th>\n",
       "      <th>payment_sequential</th>\n",
       "      <th>payment_type</th>\n",
       "      <th>payment_installments</th>\n",
       "      <th>payment_value</th>\n",
       "    </tr>\n",
       "  </thead>\n",
       "  <tbody>\n",
       "    <tr>\n",
       "      <th>0</th>\n",
       "      <td>b81ef226f3fe1789b1e8b2acac839d17</td>\n",
       "      <td>1</td>\n",
       "      <td>credit_card</td>\n",
       "      <td>8</td>\n",
       "      <td>99.33</td>\n",
       "    </tr>\n",
       "    <tr>\n",
       "      <th>1</th>\n",
       "      <td>a9810da82917af2d9aefd1278f1dcfa0</td>\n",
       "      <td>1</td>\n",
       "      <td>credit_card</td>\n",
       "      <td>1</td>\n",
       "      <td>24.39</td>\n",
       "    </tr>\n",
       "    <tr>\n",
       "      <th>2</th>\n",
       "      <td>25e8ea4e93396b6fa0d3dd708e76c1bd</td>\n",
       "      <td>1</td>\n",
       "      <td>credit_card</td>\n",
       "      <td>1</td>\n",
       "      <td>65.71</td>\n",
       "    </tr>\n",
       "    <tr>\n",
       "      <th>3</th>\n",
       "      <td>ba78997921bbcdc1373bb41e913ab953</td>\n",
       "      <td>1</td>\n",
       "      <td>credit_card</td>\n",
       "      <td>8</td>\n",
       "      <td>107.78</td>\n",
       "    </tr>\n",
       "    <tr>\n",
       "      <th>4</th>\n",
       "      <td>42fdf880ba16b47b59251dd489d4441a</td>\n",
       "      <td>1</td>\n",
       "      <td>credit_card</td>\n",
       "      <td>2</td>\n",
       "      <td>128.45</td>\n",
       "    </tr>\n",
       "  </tbody>\n",
       "</table>\n",
       "</div>"
      ],
      "text/plain": [
       "                           order_id  payment_sequential payment_type  \\\n",
       "0  b81ef226f3fe1789b1e8b2acac839d17                   1  credit_card   \n",
       "1  a9810da82917af2d9aefd1278f1dcfa0                   1  credit_card   \n",
       "2  25e8ea4e93396b6fa0d3dd708e76c1bd                   1  credit_card   \n",
       "3  ba78997921bbcdc1373bb41e913ab953                   1  credit_card   \n",
       "4  42fdf880ba16b47b59251dd489d4441a                   1  credit_card   \n",
       "\n",
       "   payment_installments  payment_value  \n",
       "0                     8          99.33  \n",
       "1                     1          24.39  \n",
       "2                     1          65.71  \n",
       "3                     8         107.78  \n",
       "4                     2         128.45  "
      ]
     },
     "execution_count": 20,
     "metadata": {},
     "output_type": "execute_result"
    }
   ],
   "source": [
    "order_payment_data = pd.read_csv(\"eCommerce_Business_Trends/olist_order_payments_dataset.csv\")\n",
    "order_payment_data.head()"
   ]
  },
  {
   "cell_type": "code",
   "execution_count": 21,
   "id": "f01fac66",
   "metadata": {},
   "outputs": [
    {
     "name": "stdout",
     "output_type": "stream",
     "text": [
      "<class 'pandas.core.frame.DataFrame'>\n",
      "RangeIndex: 103886 entries, 0 to 103885\n",
      "Data columns (total 5 columns):\n",
      " #   Column                Non-Null Count   Dtype  \n",
      "---  ------                --------------   -----  \n",
      " 0   order_id              103886 non-null  object \n",
      " 1   payment_sequential    103886 non-null  int64  \n",
      " 2   payment_type          103886 non-null  object \n",
      " 3   payment_installments  103886 non-null  int64  \n",
      " 4   payment_value         103886 non-null  float64\n",
      "dtypes: float64(1), int64(2), object(2)\n",
      "memory usage: 4.0+ MB\n"
     ]
    }
   ],
   "source": [
    "order_payment_data.info()"
   ]
  },
  {
   "cell_type": "code",
   "execution_count": 22,
   "id": "785663a8",
   "metadata": {},
   "outputs": [],
   "source": [
    "order_payment_data.drop_duplicates(subset = ['order_id'],inplace = True)\n",
    "order_payment_data.set_index(\"order_id\",inplace = True)\n"
   ]
  },
  {
   "cell_type": "code",
   "execution_count": 23,
   "id": "4e727ed7",
   "metadata": {},
   "outputs": [
    {
     "data": {
      "text/plain": [
       "payment_sequential         16\n",
       "payment_type                5\n",
       "payment_installments       24\n",
       "payment_value           28133\n",
       "dtype: int64"
      ]
     },
     "execution_count": 23,
     "metadata": {},
     "output_type": "execute_result"
    }
   ],
   "source": [
    "order_payment_data.nunique()"
   ]
  },
  {
   "cell_type": "code",
   "execution_count": 24,
   "id": "7d08f1a5",
   "metadata": {},
   "outputs": [
    {
     "data": {
      "text/plain": [
       "payment_sequential      0\n",
       "payment_type            0\n",
       "payment_installments    0\n",
       "payment_value           0\n",
       "dtype: int64"
      ]
     },
     "execution_count": 24,
     "metadata": {},
     "output_type": "execute_result"
    }
   ],
   "source": [
    "order_payment_data.isnull().sum()"
   ]
  },
  {
   "cell_type": "markdown",
   "id": "8f6a265d",
   "metadata": {},
   "source": [
    "## 5.olist_order_reviews_data\n"
   ]
  },
  {
   "cell_type": "code",
   "execution_count": 25,
   "id": "37da0180",
   "metadata": {},
   "outputs": [],
   "source": [
    "order_reviews_data = pd.read_csv(\"eCommerce_Business_Trends/olist_order_reviews_dataset.csv\")\n"
   ]
  },
  {
   "cell_type": "code",
   "execution_count": 26,
   "id": "7b9a8d50",
   "metadata": {},
   "outputs": [
    {
     "name": "stdout",
     "output_type": "stream",
     "text": [
      "<class 'pandas.core.frame.DataFrame'>\n",
      "RangeIndex: 99224 entries, 0 to 99223\n",
      "Data columns (total 7 columns):\n",
      " #   Column                   Non-Null Count  Dtype \n",
      "---  ------                   --------------  ----- \n",
      " 0   review_id                99224 non-null  object\n",
      " 1   order_id                 99224 non-null  object\n",
      " 2   review_score             99224 non-null  int64 \n",
      " 3   review_comment_title     11568 non-null  object\n",
      " 4   review_comment_message   40977 non-null  object\n",
      " 5   review_creation_date     99224 non-null  object\n",
      " 6   review_answer_timestamp  99224 non-null  object\n",
      "dtypes: int64(1), object(6)\n",
      "memory usage: 5.3+ MB\n"
     ]
    }
   ],
   "source": [
    "order_reviews_data.info()"
   ]
  },
  {
   "cell_type": "code",
   "execution_count": 27,
   "id": "9143356b",
   "metadata": {},
   "outputs": [],
   "source": [
    "order_reviews_data['review_creation_date'] = pd.to_datetime(order_reviews_data['review_creation_date'])\n",
    "order_reviews_data['review_answer_timestamp'] = pd.to_datetime(order_reviews_data['review_answer_timestamp'])"
   ]
  },
  {
   "cell_type": "code",
   "execution_count": 28,
   "id": "7302ce37",
   "metadata": {},
   "outputs": [],
   "source": [
    "order_reviews_data.drop_duplicates(subset = ['review_id'], inplace = True)\n",
    "order_reviews_data.set_index(\"review_id\", inplace = True)\n"
   ]
  },
  {
   "cell_type": "code",
   "execution_count": 29,
   "id": "1a16b187",
   "metadata": {},
   "outputs": [
    {
     "data": {
      "text/html": [
       "<div>\n",
       "<style scoped>\n",
       "    .dataframe tbody tr th:only-of-type {\n",
       "        vertical-align: middle;\n",
       "    }\n",
       "\n",
       "    .dataframe tbody tr th {\n",
       "        vertical-align: top;\n",
       "    }\n",
       "\n",
       "    .dataframe thead th {\n",
       "        text-align: right;\n",
       "    }\n",
       "</style>\n",
       "<table border=\"1\" class=\"dataframe\">\n",
       "  <thead>\n",
       "    <tr style=\"text-align: right;\">\n",
       "      <th></th>\n",
       "      <th>order_id</th>\n",
       "      <th>review_score</th>\n",
       "      <th>review_comment_title</th>\n",
       "      <th>review_comment_message</th>\n",
       "      <th>review_creation_date</th>\n",
       "      <th>review_answer_timestamp</th>\n",
       "    </tr>\n",
       "    <tr>\n",
       "      <th>review_id</th>\n",
       "      <th></th>\n",
       "      <th></th>\n",
       "      <th></th>\n",
       "      <th></th>\n",
       "      <th></th>\n",
       "      <th></th>\n",
       "    </tr>\n",
       "  </thead>\n",
       "  <tbody>\n",
       "    <tr>\n",
       "      <th>7bc2406110b926393aa56f80a40eba40</th>\n",
       "      <td>73fc7af87114b39712e6da79b0a377eb</td>\n",
       "      <td>4</td>\n",
       "      <td>NaN</td>\n",
       "      <td>NaN</td>\n",
       "      <td>2018-01-18</td>\n",
       "      <td>2018-01-18 21:46:59</td>\n",
       "    </tr>\n",
       "    <tr>\n",
       "      <th>80e641a11e56f04c1ad469d5645fdfde</th>\n",
       "      <td>a548910a1c6147796b98fdf73dbeba33</td>\n",
       "      <td>5</td>\n",
       "      <td>NaN</td>\n",
       "      <td>NaN</td>\n",
       "      <td>2018-03-10</td>\n",
       "      <td>2018-03-11 03:05:13</td>\n",
       "    </tr>\n",
       "    <tr>\n",
       "      <th>228ce5500dc1d8e020d8d1322874b6f0</th>\n",
       "      <td>f9e4b658b201a9f2ecdecbb34bed034b</td>\n",
       "      <td>5</td>\n",
       "      <td>NaN</td>\n",
       "      <td>NaN</td>\n",
       "      <td>2018-02-17</td>\n",
       "      <td>2018-02-18 14:36:24</td>\n",
       "    </tr>\n",
       "    <tr>\n",
       "      <th>e64fb393e7b32834bb789ff8bb30750e</th>\n",
       "      <td>658677c97b385a9be170737859d3511b</td>\n",
       "      <td>5</td>\n",
       "      <td>NaN</td>\n",
       "      <td>Recebi bem antes do prazo estipulado.</td>\n",
       "      <td>2017-04-21</td>\n",
       "      <td>2017-04-21 22:02:06</td>\n",
       "    </tr>\n",
       "    <tr>\n",
       "      <th>f7c4243c7fe1938f181bec41a392bdeb</th>\n",
       "      <td>8e6bfb81e283fa7e4f11123a3fb894f1</td>\n",
       "      <td>5</td>\n",
       "      <td>NaN</td>\n",
       "      <td>Parabéns lojas lannister adorei comprar pela I...</td>\n",
       "      <td>2018-03-01</td>\n",
       "      <td>2018-03-02 10:26:53</td>\n",
       "    </tr>\n",
       "  </tbody>\n",
       "</table>\n",
       "</div>"
      ],
      "text/plain": [
       "                                                          order_id  \\\n",
       "review_id                                                            \n",
       "7bc2406110b926393aa56f80a40eba40  73fc7af87114b39712e6da79b0a377eb   \n",
       "80e641a11e56f04c1ad469d5645fdfde  a548910a1c6147796b98fdf73dbeba33   \n",
       "228ce5500dc1d8e020d8d1322874b6f0  f9e4b658b201a9f2ecdecbb34bed034b   \n",
       "e64fb393e7b32834bb789ff8bb30750e  658677c97b385a9be170737859d3511b   \n",
       "f7c4243c7fe1938f181bec41a392bdeb  8e6bfb81e283fa7e4f11123a3fb894f1   \n",
       "\n",
       "                                  review_score review_comment_title  \\\n",
       "review_id                                                             \n",
       "7bc2406110b926393aa56f80a40eba40             4                  NaN   \n",
       "80e641a11e56f04c1ad469d5645fdfde             5                  NaN   \n",
       "228ce5500dc1d8e020d8d1322874b6f0             5                  NaN   \n",
       "e64fb393e7b32834bb789ff8bb30750e             5                  NaN   \n",
       "f7c4243c7fe1938f181bec41a392bdeb             5                  NaN   \n",
       "\n",
       "                                                             review_comment_message  \\\n",
       "review_id                                                                             \n",
       "7bc2406110b926393aa56f80a40eba40                                                NaN   \n",
       "80e641a11e56f04c1ad469d5645fdfde                                                NaN   \n",
       "228ce5500dc1d8e020d8d1322874b6f0                                                NaN   \n",
       "e64fb393e7b32834bb789ff8bb30750e              Recebi bem antes do prazo estipulado.   \n",
       "f7c4243c7fe1938f181bec41a392bdeb  Parabéns lojas lannister adorei comprar pela I...   \n",
       "\n",
       "                                 review_creation_date review_answer_timestamp  \n",
       "review_id                                                                      \n",
       "7bc2406110b926393aa56f80a40eba40           2018-01-18     2018-01-18 21:46:59  \n",
       "80e641a11e56f04c1ad469d5645fdfde           2018-03-10     2018-03-11 03:05:13  \n",
       "228ce5500dc1d8e020d8d1322874b6f0           2018-02-17     2018-02-18 14:36:24  \n",
       "e64fb393e7b32834bb789ff8bb30750e           2017-04-21     2017-04-21 22:02:06  \n",
       "f7c4243c7fe1938f181bec41a392bdeb           2018-03-01     2018-03-02 10:26:53  "
      ]
     },
     "execution_count": 29,
     "metadata": {},
     "output_type": "execute_result"
    }
   ],
   "source": [
    "order_reviews_data.head()"
   ]
  },
  {
   "cell_type": "code",
   "execution_count": 30,
   "id": "6ae9c0fb",
   "metadata": {},
   "outputs": [
    {
     "data": {
      "text/plain": [
       "order_id                       0\n",
       "review_score                   0\n",
       "review_comment_title       86891\n",
       "review_comment_message     57742\n",
       "review_creation_date           0\n",
       "review_answer_timestamp        0\n",
       "dtype: int64"
      ]
     },
     "execution_count": 30,
     "metadata": {},
     "output_type": "execute_result"
    }
   ],
   "source": [
    "order_reviews_data.isnull().sum()"
   ]
  },
  {
   "cell_type": "code",
   "execution_count": 31,
   "id": "5231d54a",
   "metadata": {},
   "outputs": [],
   "source": [
    "order_reviews_data.drop(columns = [\"review_comment_title\",\"review_comment_message\"], inplace = True)"
   ]
  },
  {
   "cell_type": "code",
   "execution_count": 32,
   "id": "10157d50",
   "metadata": {},
   "outputs": [
    {
     "name": "stdout",
     "output_type": "stream",
     "text": [
      "<class 'pandas.core.frame.DataFrame'>\n",
      "Index: 98410 entries, 7bc2406110b926393aa56f80a40eba40 to efe49f1d6f951dd88b51e6ccd4cc548f\n",
      "Data columns (total 4 columns):\n",
      " #   Column                   Non-Null Count  Dtype         \n",
      "---  ------                   --------------  -----         \n",
      " 0   order_id                 98410 non-null  object        \n",
      " 1   review_score             98410 non-null  int64         \n",
      " 2   review_creation_date     98410 non-null  datetime64[ns]\n",
      " 3   review_answer_timestamp  98410 non-null  datetime64[ns]\n",
      "dtypes: datetime64[ns](2), int64(1), object(1)\n",
      "memory usage: 3.8+ MB\n"
     ]
    }
   ],
   "source": [
    "order_reviews_data.info()"
   ]
  },
  {
   "cell_type": "markdown",
   "id": "ae8d920d",
   "metadata": {},
   "source": [
    "## 6. olist_orders_dataset.csv"
   ]
  },
  {
   "cell_type": "code",
   "execution_count": 33,
   "id": "462c9153",
   "metadata": {},
   "outputs": [
    {
     "data": {
      "text/plain": [
       "(99441, 8)"
      ]
     },
     "execution_count": 33,
     "metadata": {},
     "output_type": "execute_result"
    }
   ],
   "source": [
    "orders_data = pd.read_csv(\"eCommerce_Business_Trends/olist_orders_dataset.csv\")\n",
    "orders_data.shape"
   ]
  },
  {
   "cell_type": "code",
   "execution_count": 34,
   "id": "92fc146e",
   "metadata": {},
   "outputs": [
    {
     "name": "stdout",
     "output_type": "stream",
     "text": [
      "<class 'pandas.core.frame.DataFrame'>\n",
      "RangeIndex: 99441 entries, 0 to 99440\n",
      "Data columns (total 8 columns):\n",
      " #   Column                         Non-Null Count  Dtype \n",
      "---  ------                         --------------  ----- \n",
      " 0   order_id                       99441 non-null  object\n",
      " 1   customer_id                    99441 non-null  object\n",
      " 2   order_status                   99441 non-null  object\n",
      " 3   order_purchase_timestamp       99441 non-null  object\n",
      " 4   order_approved_at              99281 non-null  object\n",
      " 5   order_delivered_carrier_date   97658 non-null  object\n",
      " 6   order_delivered_customer_date  96476 non-null  object\n",
      " 7   order_estimated_delivery_date  99441 non-null  object\n",
      "dtypes: object(8)\n",
      "memory usage: 6.1+ MB\n"
     ]
    }
   ],
   "source": [
    "orders_data.info()"
   ]
  },
  {
   "cell_type": "code",
   "execution_count": 35,
   "id": "3a1b7452",
   "metadata": {},
   "outputs": [],
   "source": [
    "columns_to_convert = ['order_purchase_timestamp', 'order_approved_at','order_delivered_carrier_date','order_delivered_customer_date','order_estimated_delivery_date']\n",
    "for column in columns_to_convert:\n",
    "    orders_data[column] = pd.to_datetime(orders_data[column])\n",
    "orders_data.set_index(\"order_id\",inplace = True)\n",
    "\n"
   ]
  },
  {
   "cell_type": "code",
   "execution_count": 36,
   "id": "66d117c1",
   "metadata": {},
   "outputs": [
    {
     "data": {
      "text/plain": [
       "customer_id                         0\n",
       "order_status                        0\n",
       "order_purchase_timestamp            0\n",
       "order_approved_at                 160\n",
       "order_delivered_carrier_date     1783\n",
       "order_delivered_customer_date    2965\n",
       "order_estimated_delivery_date       0\n",
       "dtype: int64"
      ]
     },
     "execution_count": 36,
     "metadata": {},
     "output_type": "execute_result"
    }
   ],
   "source": [
    "orders_data.isna().sum()"
   ]
  },
  {
   "cell_type": "code",
   "execution_count": 37,
   "id": "960a5bb0",
   "metadata": {},
   "outputs": [
    {
     "data": {
      "text/plain": [
       "customer_id                      0\n",
       "order_status                     0\n",
       "order_purchase_timestamp         0\n",
       "order_approved_at                0\n",
       "order_delivered_carrier_date     0\n",
       "order_delivered_customer_date    0\n",
       "order_estimated_delivery_date    0\n",
       "dtype: int64"
      ]
     },
     "execution_count": 37,
     "metadata": {},
     "output_type": "execute_result"
    }
   ],
   "source": [
    "orders_data.dropna(axis = 0, how =\"any\", inplace = True)\n",
    "orders_data.isna().sum()"
   ]
  },
  {
   "cell_type": "markdown",
   "id": "bb42ccab",
   "metadata": {},
   "source": [
    "## 7. olist_products_dataset.csv"
   ]
  },
  {
   "cell_type": "code",
   "execution_count": 38,
   "id": "5534d0c1",
   "metadata": {},
   "outputs": [
    {
     "name": "stdout",
     "output_type": "stream",
     "text": [
      "<class 'pandas.core.frame.DataFrame'>\n",
      "RangeIndex: 32951 entries, 0 to 32950\n",
      "Data columns (total 9 columns):\n",
      " #   Column                      Non-Null Count  Dtype  \n",
      "---  ------                      --------------  -----  \n",
      " 0   product_id                  32951 non-null  object \n",
      " 1   product_category_name       32341 non-null  object \n",
      " 2   product_name_lenght         32341 non-null  float64\n",
      " 3   product_description_lenght  32341 non-null  float64\n",
      " 4   product_photos_qty          32341 non-null  float64\n",
      " 5   product_weight_g            32949 non-null  float64\n",
      " 6   product_length_cm           32949 non-null  float64\n",
      " 7   product_height_cm           32949 non-null  float64\n",
      " 8   product_width_cm            32949 non-null  float64\n",
      "dtypes: float64(7), object(2)\n",
      "memory usage: 2.3+ MB\n"
     ]
    }
   ],
   "source": [
    "product_data = pd.read_csv(\"eCommerce_Business_Trends/olist_products_dataset.csv\")\n",
    "product_data.info()"
   ]
  },
  {
   "cell_type": "code",
   "execution_count": 39,
   "id": "7c813a32",
   "metadata": {},
   "outputs": [],
   "source": [
    "product_data.drop(columns = ['product_name_lenght','product_description_lenght','product_weight_g','product_length_cm','product_height_cm','product_width_cm'], inplace = True)"
   ]
  },
  {
   "cell_type": "code",
   "execution_count": 40,
   "id": "79b11611",
   "metadata": {},
   "outputs": [
    {
     "data": {
      "text/plain": [
       "product_id                 0\n",
       "product_category_name    610\n",
       "product_photos_qty       610\n",
       "dtype: int64"
      ]
     },
     "execution_count": 40,
     "metadata": {},
     "output_type": "execute_result"
    }
   ],
   "source": [
    "product_data.isna().sum()"
   ]
  },
  {
   "cell_type": "code",
   "execution_count": 41,
   "id": "bfe21ce2",
   "metadata": {},
   "outputs": [],
   "source": [
    "product_data.dropna(axis = 0, how = \"any\", inplace = True)"
   ]
  },
  {
   "cell_type": "code",
   "execution_count": 42,
   "id": "21f1b802",
   "metadata": {},
   "outputs": [],
   "source": [
    "product_data.set_index(\"product_id\",inplace = True)\n"
   ]
  },
  {
   "cell_type": "code",
   "execution_count": 43,
   "id": "809567e5",
   "metadata": {},
   "outputs": [],
   "source": [
    "product_data['product_photos_qty'].replace(\"other\",0,inplace = True)"
   ]
  },
  {
   "cell_type": "code",
   "execution_count": 44,
   "id": "c9ef578c",
   "metadata": {},
   "outputs": [
    {
     "data": {
      "text/plain": [
       "Index(['product_category_name', 'product_photos_qty'], dtype='object')"
      ]
     },
     "execution_count": 44,
     "metadata": {},
     "output_type": "execute_result"
    }
   ],
   "source": [
    "product_data.columns"
   ]
  },
  {
   "cell_type": "markdown",
   "id": "966044ca",
   "metadata": {},
   "source": [
    "## olist_sellers_dataset.csv"
   ]
  },
  {
   "cell_type": "code",
   "execution_count": 45,
   "id": "5ab7267a",
   "metadata": {},
   "outputs": [
    {
     "name": "stdout",
     "output_type": "stream",
     "text": [
      "<class 'pandas.core.frame.DataFrame'>\n",
      "RangeIndex: 3095 entries, 0 to 3094\n",
      "Data columns (total 4 columns):\n",
      " #   Column                  Non-Null Count  Dtype \n",
      "---  ------                  --------------  ----- \n",
      " 0   seller_id               3095 non-null   object\n",
      " 1   seller_zip_code_prefix  3095 non-null   int64 \n",
      " 2   seller_city             3095 non-null   object\n",
      " 3   seller_state            3095 non-null   object\n",
      "dtypes: int64(1), object(3)\n",
      "memory usage: 96.8+ KB\n"
     ]
    }
   ],
   "source": [
    "sellers_data = pd.read_csv(\"eCommerce_Business_Trends/olist_sellers_dataset.csv\")\n",
    "sellers_data.info()"
   ]
  },
  {
   "cell_type": "code",
   "execution_count": 46,
   "id": "d8c2491a",
   "metadata": {},
   "outputs": [
    {
     "data": {
      "text/plain": [
       "seller_id                 3095\n",
       "seller_zip_code_prefix    2246\n",
       "seller_city                611\n",
       "seller_state                23\n",
       "dtype: int64"
      ]
     },
     "execution_count": 46,
     "metadata": {},
     "output_type": "execute_result"
    }
   ],
   "source": [
    "sellers_data.nunique()"
   ]
  },
  {
   "cell_type": "code",
   "execution_count": 47,
   "id": "6b4fdb71",
   "metadata": {},
   "outputs": [
    {
     "data": {
      "text/plain": [
       "seller_id                 0\n",
       "seller_zip_code_prefix    0\n",
       "seller_city               0\n",
       "seller_state              0\n",
       "dtype: int64"
      ]
     },
     "execution_count": 47,
     "metadata": {},
     "output_type": "execute_result"
    }
   ],
   "source": [
    "sellers_data.isna().sum()"
   ]
  },
  {
   "cell_type": "markdown",
   "id": "7afb7207",
   "metadata": {},
   "source": [
    "## 9.olist_product_category_name_translation.csv "
   ]
  },
  {
   "cell_type": "code",
   "execution_count": 48,
   "id": "34a3c541",
   "metadata": {},
   "outputs": [
    {
     "name": "stdout",
     "output_type": "stream",
     "text": [
      "<class 'pandas.core.frame.DataFrame'>\n",
      "RangeIndex: 71 entries, 0 to 70\n",
      "Data columns (total 2 columns):\n",
      " #   Column                         Non-Null Count  Dtype \n",
      "---  ------                         --------------  ----- \n",
      " 0   product_category_name          71 non-null     object\n",
      " 1   product_category_name_english  71 non-null     object\n",
      "dtypes: object(2)\n",
      "memory usage: 1.2+ KB\n"
     ]
    }
   ],
   "source": [
    "product_category = pd.read_csv(\"eCommerce_Business_Trends/product_category_name_translation.csv\")\n",
    "product_category.info()"
   ]
  },
  {
   "cell_type": "code",
   "execution_count": 49,
   "id": "52209be4",
   "metadata": {},
   "outputs": [],
   "source": [
    "product_category.drop_duplicates(subset = [\"product_category_name\"],inplace = True)\n"
   ]
  },
  {
   "cell_type": "code",
   "execution_count": 50,
   "id": "296ae2cb",
   "metadata": {},
   "outputs": [],
   "source": [
    "product_category = product_category.reset_index(drop=True)"
   ]
  },
  {
   "cell_type": "code",
   "execution_count": 51,
   "id": "df3a37e4",
   "metadata": {},
   "outputs": [
    {
     "data": {
      "text/plain": [
       "product_category_name            0\n",
       "product_category_name_english    0\n",
       "dtype: int64"
      ]
     },
     "execution_count": 51,
     "metadata": {},
     "output_type": "execute_result"
    }
   ],
   "source": [
    "product_category.isna().sum()"
   ]
  },
  {
   "cell_type": "code",
   "execution_count": 52,
   "id": "15cfd48f",
   "metadata": {},
   "outputs": [
    {
     "data": {
      "text/plain": [
       "Index(['product_category_name', 'product_category_name_english'], dtype='object')"
      ]
     },
     "execution_count": 52,
     "metadata": {},
     "output_type": "execute_result"
    }
   ],
   "source": [
    "product_category.columns"
   ]
  },
  {
   "cell_type": "code",
   "execution_count": 53,
   "id": "2b306dbd",
   "metadata": {},
   "outputs": [],
   "source": [
    "import pyodbc\n",
    "\n",
    "# Thay đổi các giá trị này phù hợp với thông tin kết nối của bạn\n",
    "server = 'WINDOWS-4G8BUQ1\\WINCC'\n",
    "database = 'eCommerce'\n",
    "driver = '{SQL Server}'\n",
    "\n",
    "# Tạo chuỗi kết nối\n",
    "connection_string = f\"DRIVER={driver};SERVER={server};DATABASE={database}\"\n",
    "\n",
    "# Kết nối với cơ sở dữ liệu bằng Windows Authentication\n",
    "conn = pyodbc.connect(connection_string)\n"
   ]
  },
  {
   "cell_type": "code",
   "execution_count": 54,
   "id": "b308b7ea",
   "metadata": {},
   "outputs": [],
   "source": [
    "if not os.path.exists(\"final_database\"):\n",
    "    os.makedirs(\"final_database\")"
   ]
  },
  {
   "cell_type": "code",
   "execution_count": 55,
   "id": "495ff29d",
   "metadata": {},
   "outputs": [],
   "source": [
    "customer_data.to_csv(\"final_database/customer_data.csv\") \n",
    "geolocation_data.to_csv(\"final_database/geolocation_data.csv\") \n",
    "order_items_data.to_csv(\"final_database/order_item_data.csv\") \n",
    "order_payment_data.to_csv(\"final_database/order_payment_data.csv\")\n",
    "order_reviews_data.to_csv(\"final_database/order_reviews_data.csv\") \n",
    "product_data.to_csv(\"final_database/product_data.csv\") \n",
    "sellers_data.to_csv(\"final_database/seller_data.csv\") \n",
    "product_category.to_csv(\"final_database/product_catagory_data.csv\") \n",
    "orders_data.to_csv(\"final_database/orders_data.csv\")"
   ]
  },
  {
   "cell_type": "code",
   "execution_count": null,
   "id": "789aac6c",
   "metadata": {},
   "outputs": [],
   "source": []
  }
 ],
 "metadata": {
  "kernelspec": {
   "display_name": "Python 3",
   "language": "python",
   "name": "python3"
  },
  "language_info": {
   "codemirror_mode": {
    "name": "ipython",
    "version": 3
   },
   "file_extension": ".py",
   "mimetype": "text/x-python",
   "name": "python",
   "nbconvert_exporter": "python",
   "pygments_lexer": "ipython3",
   "version": "3.8.8"
  }
 },
 "nbformat": 4,
 "nbformat_minor": 5
}
